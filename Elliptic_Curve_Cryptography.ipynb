{
  "nbformat": 4,
  "nbformat_minor": 0,
  "metadata": {
    "colab": {
      "name": "Elliptic Curve Cryptography.ipynb",
      "provenance": [],
      "collapsed_sections": []
    },
    "kernelspec": {
      "display_name": "Python 3",
      "name": "python3"
    }
  },
  "cells": [
    {
      "cell_type": "markdown",
      "metadata": {
        "id": "_CHI7hgjR6rH"
      },
      "source": [
        "#**Elliptic Curve Cryptography**"
      ]
    },
    {
      "cell_type": "code",
      "metadata": {
        "id": "LpxufR9ZSMTX"
      },
      "source": [
        "def modInverse(a, m): \n",
        "    a = a % m \n",
        "    for x in range(1, m): \n",
        "        if ((a * x) % m == 1): \n",
        "            return x \n",
        "    return 1\n",
        "\n",
        "def point_addition(x1,y1,x2,y2,p):\n",
        "  s=((y2-y1)% p)*(modInverse(x2-x1,p))\n",
        "  #print(s)\n",
        "  x3=(s*s-x1-x2) % p\n",
        "  y3=(s*(x1-x3)-y1) % p \n",
        "  return x3,y3\n",
        "\n",
        "def point_doubling(x,y,a,p):\n",
        "  s= ((3*x**2+a) % p)*(modInverse(2*y,p))\n",
        "  #print(s)\n",
        "  x3=(s*s-x-x) % p\n",
        "  y3=(s*(x-x3)-y) % p\n",
        "  return x3,y3"
      ],
      "execution_count": null,
      "outputs": []
    },
    {
      "cell_type": "markdown",
      "metadata": {
        "id": "4jDwTfReXVeR"
      },
      "source": [
        "# **Point Addition Function**"
      ]
    },
    {
      "cell_type": "code",
      "metadata": {
        "colab": {
          "base_uri": "https://localhost:8080/"
        },
        "id": "w8jBTp6_Tgs2",
        "outputId": "2c292bf6-6877-4bc3-dbd0-ec498226fbd0"
      },
      "source": [
        "point_addition(2,1,-2,-1,17)"
      ],
      "execution_count": null,
      "outputs": [
        {
          "output_type": "execute_result",
          "data": {
            "text/plain": [
              "(13, 2)"
            ]
          },
          "metadata": {
            "tags": []
          },
          "execution_count": 2
        }
      ]
    },
    {
      "cell_type": "markdown",
      "metadata": {
        "id": "DJcnpgU9Xfxc"
      },
      "source": [
        "# **Point Multiplication/Doubling**"
      ]
    },
    {
      "cell_type": "code",
      "metadata": {
        "colab": {
          "base_uri": "https://localhost:8080/"
        },
        "id": "JBWnCQURUx8a",
        "outputId": "c9b29b94-6c76-4e95-8b25-daf6253c4916"
      },
      "source": [
        "point_doubling(3,10,1,23)"
      ],
      "execution_count": null,
      "outputs": [
        {
          "output_type": "execute_result",
          "data": {
            "text/plain": [
              "(7, 12)"
            ]
          },
          "metadata": {
            "tags": []
          },
          "execution_count": 3
        }
      ]
    },
    {
      "cell_type": "markdown",
      "metadata": {
        "id": "4NJZfvupynZe"
      },
      "source": [
        "## **Determining the Cyclic Group/Group Cardinality, E**"
      ]
    },
    {
      "cell_type": "code",
      "metadata": {
        "id": "h5fhzqSC2OuN"
      },
      "source": [
        "def n_p(i,x_y,point,a,p):\n",
        "  if (i+1)%2==0:\n",
        "    m=x_y[int((i+1)/2)-1]\n",
        "    x_y.append(point_doubling(m[0],m[1],a,p))\n",
        "  else:\n",
        "    m=x_y[i-1]\n",
        "    x_y.append(point_addition(m[0],m[1],Point[0],Point[1],p))\n",
        "  return x_y"
      ],
      "execution_count": null,
      "outputs": []
    },
    {
      "cell_type": "code",
      "metadata": {
        "colab": {
          "base_uri": "https://localhost:8080/"
        },
        "id": "d9y6PJGLVYl8",
        "outputId": "667c945d-f419-4396-f121-f1fda4cc37e2"
      },
      "source": [
        "Point=(6,3)   #initial Point\n",
        "p=37          #Public value P\n",
        "a=-5           # From Equation Y^2 = x^3 + ax + b\n",
        "x_y=[]\n",
        "E=0\n",
        "x_y.append(Point)\n",
        "for i in range(1,100):\n",
        "  x_y=n_p(i,x_y,Point,a,p)\n",
        "  if x_y[-1]==Point:\n",
        "    E=i\n",
        "    print(\"Cyclic Group ,E = \"+str(E))\n",
        "    break\n",
        "x_y[E-1]=str(x_y[E-1])+\" = \\u03F4\"\n",
        "for i in range(len(x_y)):\n",
        "  print(str(i+1)+\"P = \"+str(x_y[i]))"
      ],
      "execution_count": null,
      "outputs": [
        {
          "output_type": "stream",
          "text": [
            "Cyclic Group ,E = 15\n",
            "1P = (6, 3)\n",
            "2P = (35, 11)\n",
            "3P = (34, 25)\n",
            "4P = (8, 6)\n",
            "5P = (16, 19)\n",
            "6P = (22, 1)\n",
            "7P = (20, 8)\n",
            "8P = (20, 29)\n",
            "9P = (22, 36)\n",
            "10P = (16, 18)\n",
            "11P = (8, 31)\n",
            "12P = (34, 12)\n",
            "13P = (35, 26)\n",
            "14P = (6, 34)\n",
            "15P = (24, 6) = ϴ\n",
            "16P = (6, 3)\n"
          ],
          "name": "stdout"
        }
      ]
    },
    {
      "cell_type": "markdown",
      "metadata": {
        "id": "R7cSestHUQCH"
      },
      "source": [
        "# **Shortcut of N-th Doubling(Square and Multiply)**"
      ]
    },
    {
      "cell_type": "code",
      "metadata": {
        "id": "BPqj-GAJUw4W"
      },
      "source": [
        "def decimalToBinary(n):  \n",
        "    return bin(n).replace(\"0b\", \"\")\n",
        "\n",
        "def steps_of_P(n):\n",
        "  Bn=decimalToBinary(n)\n",
        "  step=[]\n",
        "  while(n>=1):\n",
        "    if n%2==0:\n",
        "      step.append(int(n))\n",
        "      n=n/2\n",
        "    else:\n",
        "      step.append(int(n))\n",
        "      n=(n-1)\n",
        "  step.reverse()\n",
        "  return step"
      ],
      "execution_count": null,
      "outputs": []
    },
    {
      "cell_type": "code",
      "metadata": {
        "colab": {
          "base_uri": "https://localhost:8080/"
        },
        "id": "XelcyFmyUWpL",
        "outputId": "d72703b0-9f86-414f-934f-aaec77fa9d1a"
      },
      "source": [
        "Point=(6,3)\n",
        "p=37\n",
        "a=-5\n",
        "n=30\n",
        "#line 1-4 are editable \n",
        "steps_of_point=[]\n",
        "coefficient_of_P=steps_of_P(n)\n",
        "for i in coefficient_of_P:\n",
        "  if i==1:\n",
        "    steps_of_point.append(Point)\n",
        "  elif int(decimalToBinary(i)[-1])==0:\n",
        "    steps_of_point.append(point_doubling(steps_of_point[-1][0],steps_of_point[-1][1],a,p))\n",
        "  else:\n",
        "    steps_of_point.append(point_addition(steps_of_point[-1][0],steps_of_point[-1][1],Point[0],Point[1],p))\n",
        "print(str(n)+\"P = (\"+str(decimalToBinary(n))+\")P\")\n",
        "for i in range(len(steps_of_point)):\n",
        "  print(\"Step : \"+str(i)+\" --=> \"+str(coefficient_of_P[i])+\"P = (\"+str(decimalToBinary(coefficient_of_P[i]))+\")P =\"+str(steps_of_point[i]))\n",
        "\n"
      ],
      "execution_count": null,
      "outputs": [
        {
          "output_type": "stream",
          "text": [
            "30P = (11110)P\n",
            "Step : 0 --=> 1P = (1)P =(6, 3)\n",
            "Step : 1 --=> 2P = (10)P =(35, 11)\n",
            "Step : 2 --=> 3P = (11)P =(34, 25)\n",
            "Step : 3 --=> 6P = (110)P =(22, 1)\n",
            "Step : 4 --=> 7P = (111)P =(20, 8)\n",
            "Step : 5 --=> 14P = (1110)P =(6, 34)\n",
            "Step : 6 --=> 15P = (1111)P =(24, 6)\n",
            "Step : 7 --=> 30P = (11110)P =(36, 10)\n"
          ],
          "name": "stdout"
        }
      ]
    },
    {
      "cell_type": "markdown",
      "metadata": {
        "id": "Lng9l3HFziy7"
      },
      "source": [
        "# **Generating Shared Key**\n",
        "<b><u>Equation</u> : Y<sup>2</sup> = X<sup>3</sup> + ax + b <br>\n",
        "point , P = (x,y) <br>\n",
        "Cyclic Group , E</b>\n",
        "\n",
        "Private key={2,3,4,5..............,E-1}<br>\n",
        "Let's see an example:<br>\n",
        "Here,<pre>      Y<sup>2</sup> = X<sup>3</sup> + 2x + 2 \n",
        "      point , P = (5,1) \n",
        "      Cyclic Group , E = 19 </pre>\n",
        "<pre>               <b>Alice</b>                                       <b>Bob</b><hr>\n",
        "        a = k<sub>private</sub> = K<sub>a</sub> = 3                           b = k<sub>private</sub> = K<sub>b</sub>= 10                                         \n",
        "        A = k<sub>public</sub> = a.P                          B = k<sub>public</sub> = b.P \n",
        "                   = 3P = 3(5,1)=(10,6)             = 10P = 10(5,1)=(7,11)\n",
        "                                           <b> A</b>\n",
        "                                   ------------------->\n",
        "                                           <b> B</b>\n",
        "                                   <------------------- \n",
        "        a.B = 3.(7,11) = (13,10)                  b.A = 10(10,6) = (13,10)\n",
        "\n",
        "        <b>Shared Key = common value of X-ordinate of Alice and Bob</b>\n",
        "                   = 13 \n"
      ]
    },
    {
      "cell_type": "code",
      "metadata": {
        "id": "YF8tOJ5z8-YI"
      },
      "source": [
        "def point_operation(n,Point,a,p):\n",
        "  steps_of_point=[]\n",
        "  coefficient_of_P=steps_of_P(n)\n",
        "  for i in coefficient_of_P:\n",
        "    if i==1:\n",
        "      steps_of_point.append(Point)\n",
        "    elif int(decimalToBinary(i)[-1])==0:\n",
        "      steps_of_point.append(point_doubling(steps_of_point[-1][0],steps_of_point[-1][1],a,p))\n",
        "    else:\n",
        "      steps_of_point.append(point_addition(steps_of_point[-1][0],steps_of_point[-1][1],Point[0],Point[1],p))\n",
        "  \n",
        "  return steps_of_point[-1]\n"
      ],
      "execution_count": null,
      "outputs": []
    },
    {
      "cell_type": "code",
      "metadata": {
        "colab": {
          "base_uri": "https://localhost:8080/",
          "height": 150
        },
        "id": "paCVn1SAnNjM",
        "outputId": "7bd09b5c-b3ca-480c-c0d2-c4c439f1821b"
      },
      "source": [
        "import pandas as pd\n",
        "a=2\n",
        "p=17\n",
        "Point=(5,1)\n",
        "E=19\n",
        "ka=3\n",
        "kb=10\n",
        "#line 2-7 are editable\n",
        "A=point_operation(ka,Point,a,p)\n",
        "B=point_operation(kb,Point,a,p)\n",
        "Alice_key=point_operation(ka,B,a,p)\n",
        "Bob_key=point_operation(kb,A,a,p)\n",
        "\n",
        "result=([\"a = \"+str(ka),\"b = \"+str(kb)],\n",
        "        [\"A = \"+str(A),\"B = \"+str(B)],\n",
        "        [Alice_key,Bob_key])\n",
        "\n",
        "if Alice_key[0]==Bob_key[0]:\n",
        "  print(\"Shared Key = \"+str(Alice_key[0]))\n",
        "\n",
        "pd.DataFrame(result,columns=['Alice','Bob'],index=['Private Key','Public Key','Shared Key'])"
      ],
      "execution_count": null,
      "outputs": [
        {
          "output_type": "stream",
          "text": [
            "Shared Key = 13\n"
          ],
          "name": "stdout"
        },
        {
          "output_type": "execute_result",
          "data": {
            "text/html": [
              "<div>\n",
              "<style scoped>\n",
              "    .dataframe tbody tr th:only-of-type {\n",
              "        vertical-align: middle;\n",
              "    }\n",
              "\n",
              "    .dataframe tbody tr th {\n",
              "        vertical-align: top;\n",
              "    }\n",
              "\n",
              "    .dataframe thead th {\n",
              "        text-align: right;\n",
              "    }\n",
              "</style>\n",
              "<table border=\"1\" class=\"dataframe\">\n",
              "  <thead>\n",
              "    <tr style=\"text-align: right;\">\n",
              "      <th></th>\n",
              "      <th>Alice</th>\n",
              "      <th>Bob</th>\n",
              "    </tr>\n",
              "  </thead>\n",
              "  <tbody>\n",
              "    <tr>\n",
              "      <th>Private Key</th>\n",
              "      <td>a = 3</td>\n",
              "      <td>b = 10</td>\n",
              "    </tr>\n",
              "    <tr>\n",
              "      <th>Public Key</th>\n",
              "      <td>A = (10, 6)</td>\n",
              "      <td>B = (7, 11)</td>\n",
              "    </tr>\n",
              "    <tr>\n",
              "      <th>Shared Key</th>\n",
              "      <td>(13, 10)</td>\n",
              "      <td>(13, 10)</td>\n",
              "    </tr>\n",
              "  </tbody>\n",
              "</table>\n",
              "</div>"
            ],
            "text/plain": [
              "                   Alice          Bob\n",
              "Private Key        a = 3       b = 10\n",
              "Public Key   A = (10, 6)  B = (7, 11)\n",
              "Shared Key      (13, 10)     (13, 10)"
            ]
          },
          "metadata": {
            "tags": []
          },
          "execution_count": 9
        }
      ]
    },
    {
      "cell_type": "markdown",
      "metadata": {
        "id": "UR7sW4EXasRL"
      },
      "source": [
        "# **GCD Determination(Euclidean Method)**"
      ]
    },
    {
      "cell_type": "code",
      "metadata": {
        "colab": {
          "base_uri": "https://localhost:8080/"
        },
        "id": "Js7QE8t9awQl",
        "outputId": "151463c7-1474-4f82-8714-d9111aa386e5"
      },
      "source": [
        "from math import *\n",
        "\n",
        "def euclid_algo(x, y, verbose=True):\n",
        "\tif x < y: # We want x >= y\n",
        "\t\treturn euclid_algo(y, x, verbose)\n",
        "\tprint()\n",
        "\twhile y != 0:\n",
        "\t\tif verbose: print('%s = %s * %s + %s' % (x, floor(x/y), y, x % y))\n",
        "\t\t(x, y) = (y, x % y)\n",
        "\t\n",
        "\tif verbose: print('gcd is %s' % x) \n",
        "\treturn x\n",
        "\n",
        "\n",
        "euclid_algo(181, 71)\n"
      ],
      "execution_count": null,
      "outputs": [
        {
          "output_type": "stream",
          "text": [
            "\n",
            "181 = 2 * 71 + 39\n",
            "71 = 1 * 39 + 32\n",
            "39 = 1 * 32 + 7\n",
            "32 = 4 * 7 + 4\n",
            "7 = 1 * 4 + 3\n",
            "4 = 1 * 3 + 1\n",
            "3 = 3 * 1 + 0\n",
            "gcd is 1\n"
          ],
          "name": "stdout"
        },
        {
          "output_type": "execute_result",
          "data": {
            "text/plain": [
              "1"
            ]
          },
          "metadata": {
            "tags": []
          },
          "execution_count": 10
        }
      ]
    },
    {
      "cell_type": "markdown",
      "metadata": {
        "id": "ZEcdLx7Li8wT"
      },
      "source": [
        "# **GCD Determination(Extended Euclidean Method)**"
      ]
    },
    {
      "cell_type": "code",
      "metadata": {
        "colab": {
          "base_uri": "https://localhost:8080/"
        },
        "id": "ayuPwcfNbUEq",
        "outputId": "f976b7e5-c043-4f78-ca77-2744cc7bfa18"
      },
      "source": [
        "from typing import Tuple\n",
        "x=181\n",
        "y=71\n",
        "def xgcd(a: int, b: int) -> Tuple[int, int, int]:\n",
        "    x0, x1, y0, y1 = 0, 1, 1, 0\n",
        "    while a != 0:\n",
        "        (q, a), b = divmod(b, a), a\n",
        "        y0, y1 = y1, y0 - q * y1\n",
        "        x0, x1 = x1, x0 - q * x1\n",
        "        if (x0!=0 and y0!=0):\n",
        "          print(str(b)+\" = \"+str(x0)+\"*\"+str(x)+\" + \"+str(y0)+\"*\"+str(y))\n",
        "    return b, x0, y0\n",
        "r2,r0,r1=xgcd(x,y)\n",
        "\n",
        "print(\"\\nMultiplicative Inverse is=\"+str(r1))"
      ],
      "execution_count": null,
      "outputs": [
        {
          "output_type": "stream",
          "text": [
            "39 = 1*181 + -2*71\n",
            "32 = -1*181 + 3*71\n",
            "7 = 2*181 + -5*71\n",
            "4 = -9*181 + 23*71\n",
            "3 = 11*181 + -28*71\n",
            "1 = -20*181 + 51*71\n",
            "\n",
            "Multiplicative Inverse is=51\n"
          ],
          "name": "stdout"
        }
      ]
    },
    {
      "cell_type": "code",
      "metadata": {
        "colab": {
          "base_uri": "https://localhost:8080/"
        },
        "id": "Yuex5xd-h5Xb",
        "outputId": "c8e72402-801e-4f72-b1bd-fe5cb8a9aa44"
      },
      "source": [
        "modInverse(x,y)"
      ],
      "execution_count": null,
      "outputs": [
        {
          "output_type": "execute_result",
          "data": {
            "text/plain": [
              "51"
            ]
          },
          "metadata": {
            "tags": []
          },
          "execution_count": 12
        }
      ]
    }
  ]
}